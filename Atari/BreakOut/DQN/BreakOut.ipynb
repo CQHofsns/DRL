{
 "cells": [
  {
   "cell_type": "code",
   "execution_count": 1,
   "id": "bfe6667b-92f6-4907-be2e-ca792f5d84a0",
   "metadata": {
    "execution": {
     "iopub.execute_input": "2024-01-14T08:27:21.136182Z",
     "iopub.status.busy": "2024-01-14T08:27:21.135497Z",
     "iopub.status.idle": "2024-01-14T08:27:40.102010Z",
     "shell.execute_reply": "2024-01-14T08:27:40.100929Z",
     "shell.execute_reply.started": "2024-01-14T08:27:21.136153Z"
    },
    "id": "bfe6667b-92f6-4907-be2e-ca792f5d84a0"
   },
   "outputs": [],
   "source": [
    "%%capture\n",
    "!pip install torchsummary\n",
    "!pip install \"gymnasium[atari, accept-rom-license]\"\n",
    "!pip install moviepy\n",
    "!pip install moviepy --upgrade\n",
    "!pip install ffmpeg --upgrade"
   ]
  },
  {
   "cell_type": "markdown",
   "id": "2dde1db6-8ce3-4df1-857b-d46ef46d8535",
   "metadata": {
    "id": "2dde1db6-8ce3-4df1-857b-d46ef46d8535"
   },
   "source": [
    "# Import Module"
   ]
  },
  {
   "cell_type": "code",
   "execution_count": 2,
   "id": "519075d3-ac3c-445c-9bc0-a35283aadaf7",
   "metadata": {
    "execution": {
     "iopub.execute_input": "2024-01-14T08:27:40.104597Z",
     "iopub.status.busy": "2024-01-14T08:27:40.104324Z",
     "iopub.status.idle": "2024-01-14T08:27:41.596583Z",
     "shell.execute_reply": "2024-01-14T08:27:41.595568Z",
     "shell.execute_reply.started": "2024-01-14T08:27:40.104570Z"
    },
    "id": "519075d3-ac3c-445c-9bc0-a35283aadaf7"
   },
   "outputs": [
    {
     "name": "stdout",
     "output_type": "stream",
     "text": [
      "cuda\n",
      "0.29.1\n"
     ]
    },
    {
     "data": {
      "text/plain": [
       "<contextlib.ExitStack at 0x7fbaf6b37e20>"
      ]
     },
     "execution_count": 2,
     "metadata": {},
     "output_type": "execute_result"
    }
   ],
   "source": [
    "import ale_py\n",
    "import shimmy\n",
    "import gymnasium as gym\n",
    "import math\n",
    "import random\n",
    "import matplotlib\n",
    "import matplotlib.pyplot as plt\n",
    "import time\n",
    "\n",
    "import cv2\n",
    "import numpy as np\n",
    "\n",
    "from collections import namedtuple, deque\n",
    "from itertools import count\n",
    "from IPython.display import clear_output, display\n",
    "from PIL import Image\n",
    "\n",
    "import torch\n",
    "import torch.nn as nn\n",
    "import torch.optim as optim\n",
    "import torch.nn.functional as F\n",
    "\n",
    "from torchsummary import summary\n",
    "\n",
    "device = torch.device(\"cuda\" if torch.cuda.is_available() else \"cpu\")\n",
    "print(device)\n",
    "print(gym.__version__)\n",
    "\n",
    "is_ipython= \"inline\" in matplotlib.get_backend()\n",
    "if is_ipython:\n",
    "    from IPython import display\n",
    "\n",
    "plt.ion()"
   ]
  },
  {
   "cell_type": "markdown",
   "id": "6ac0c956-f2f4-4ea3-b02a-af140cbf1e3f",
   "metadata": {
    "id": "6ac0c956-f2f4-4ea3-b02a-af140cbf1e3f"
   },
   "source": [
    "# Setup environment"
   ]
  },
  {
   "cell_type": "code",
   "execution_count": 3,
   "id": "94a7885c-f5a6-454c-80e5-b23b3d61ab68",
   "metadata": {
    "execution": {
     "iopub.execute_input": "2024-01-14T08:27:41.598451Z",
     "iopub.status.busy": "2024-01-14T08:27:41.598136Z",
     "iopub.status.idle": "2024-01-14T08:27:41.892439Z",
     "shell.execute_reply": "2024-01-14T08:27:41.891486Z",
     "shell.execute_reply.started": "2024-01-14T08:27:41.598427Z"
    },
    "id": "94a7885c-f5a6-454c-80e5-b23b3d61ab68"
   },
   "outputs": [
    {
     "name": "stdout",
     "output_type": "stream",
     "text": [
      "Creating Environment\n"
     ]
    },
    {
     "name": "stderr",
     "output_type": "stream",
     "text": [
      "A.L.E: Arcade Learning Environment (version 0.8.1+53f58b7)\n",
      "[Powered by Stella]\n"
     ]
    },
    {
     "name": "stdout",
     "output_type": "stream",
     "text": [
      "Original environment observation shape: (210, 160, 3)\n",
      "Gray scaled environment observation: (210, 160)\n",
      "Transformed environment observation: (210, 160)\n",
      "Resized environment observation: (84, 84)\n",
      "Frames stacked environment observation: (4, 84, 84)\n"
     ]
    }
   ],
   "source": [
    "\"\"\"\n",
    "Game: BreakOut\n",
    "_ Actions: 4 (0: NOOP, 1: FIRE, 2: RIGHT, 3: LEFT)\n",
    "_ Observation (Frame): Box(0, 255, (210, 160, 3), uint8) --> Resie+ Stack (4xFrames): Box(0,255,(4, 88, 80, 3), uint8)\n",
    "  + Box: Biểu diễn space hay container mà chứa frame hay observation. Trong môi trường Gym, Box thường được hiểu là một continuous space mà trong đó các phần tử (pixel trong trường hợp image) có bất kì\n",
    "giá trị nào trong một khoảng cho trước\n",
    "  + (0, 255.. :Khoảng giá trị mà observation/frame có thể có (trong case này là 0->255 giá trị pixel)\n",
    "  + (210, 160, 3): Khung hình, size của observation/frame. (Height, Width, Channel)\n",
    "  + uint8: data type của giá trị của frame, 8-bit unsigned integer data type\n",
    "_ Reward: Tham khảo trang sau: https://atariage.com/manual_html_page.php?SoftwareID=889\n",
    "\"\"\"\n",
    "\n",
    "def observation_preproc(frame):\n",
    "    \"\"\"Crop ảnh lấy khung game \"\"\"\n",
    "    cropped_frame = frame[35:195, 7:153]/255\n",
    "    \n",
    "    return cropped_frame\n",
    "    \n",
    "\n",
    "STACK_NUM= 4\n",
    "RESIZE_HEIGHT= 84\n",
    "RESIZE_WIDTH= 84\n",
    "\n",
    "# Make game environment\n",
    "print(\"Creating Environment\")\n",
    "env= gym.make(\"ALE/Breakout-v5\", render_mode= 'rgb_array')\n",
    "print(f\"Original environment observation shape: {env.observation_space.shape}\")\n",
    "env= gym.wrappers.GrayScaleObservation(env)\n",
    "print(f\"Gray scaled environment observation: {env.observation_space.shape}\")\n",
    "env= gym.wrappers.TransformObservation(env, observation_preproc)\n",
    "print(f\"Transformed environment observation: {env.observation_space.shape}\")\n",
    "env= gym.wrappers.ResizeObservation(env, (RESIZE_HEIGHT, RESIZE_WIDTH))\n",
    "print(f\"Resized environment observation: {env.observation_space.shape}\")\n",
    "env= gym.wrappers.FrameStack(env, STACK_NUM)\n",
    "print(f\"Frames stacked environment observation: {env.observation_space.shape}\")\n",
    "\n",
    "# Visualize non stack observation\n",
    "#observation = env.reset(seed=random.randint(0, 2**24))  # Get an initial observation\n",
    "#print(f\"Shape of transformed observation: {observation[0].shape}\")\n",
    "#print(observation[0])\n",
    "#plt.imshow(observation[0], cmap= 'gray')  # Display in grayscale\n",
    "#plt.show()"
   ]
  },
  {
   "cell_type": "markdown",
   "id": "cfc5b28e-00f0-462c-9ff6-4bb29e9d8894",
   "metadata": {
    "id": "cfc5b28e-00f0-462c-9ff6-4bb29e9d8894"
   },
   "source": [
    "# Replay Memory"
   ]
  },
  {
   "cell_type": "code",
   "execution_count": 4,
   "id": "eeeed2a2-121e-4d62-b9ce-884855fd645a",
   "metadata": {
    "execution": {
     "iopub.execute_input": "2024-01-14T08:27:41.895048Z",
     "iopub.status.busy": "2024-01-14T08:27:41.894670Z",
     "iopub.status.idle": "2024-01-14T08:27:41.902824Z",
     "shell.execute_reply": "2024-01-14T08:27:41.901721Z",
     "shell.execute_reply.started": "2024-01-14T08:27:41.895008Z"
    },
    "id": "eeeed2a2-121e-4d62-b9ce-884855fd645a"
   },
   "outputs": [],
   "source": [
    "Transition= namedtuple('Transistion', ('state', 'action', 'next_state', 'reward'))\n",
    "\n",
    "class ReplayMemory(object):\n",
    "    def __init__(self, capacity):\n",
    "        self.memory= deque([], maxlen= capacity) #deque (pronounced as deck) is a list-like object in Python but support pop and insrert both size with effiency\n",
    "\n",
    "    def push(self, *args):\n",
    "        \"\"\"\n",
    "        Lưu tuple transition vào deque memory, deque có dạng là list của tuples\n",
    "        memory= deque([Transition('state', 'action', 'next_state', 'reward'), Transition('state', 'action', 'next_state', 'reward'), ...], maxlen= capacity)\n",
    "        \"\"\"\n",
    "        self.memory.append(Transition(*args))\n",
    "\n",
    "    def sample(self, batch_size):\n",
    "        \"\"\"\n",
    "        Hàm dưới random chọn batch_size tuples trong deque\n",
    "        return có dạng [Transition('state', 'action', 'next_state', 'reward'), Transition('state', 'action', 'next_state', 'reward'), ...] với len= batch_size\n",
    "        \"\"\"\n",
    "        return random.sample(self.memory, batch_size)\n",
    "\n",
    "    def __len__(self):\n",
    "        return len(self.memory)"
   ]
  },
  {
   "cell_type": "markdown",
   "id": "0f590cb3-2936-48d0-979c-477539227e9a",
   "metadata": {
    "id": "0f590cb3-2936-48d0-979c-477539227e9a"
   },
   "source": [
    "# Deep Q Network"
   ]
  },
  {
   "cell_type": "markdown",
   "id": "0df2c60f-d900-446f-8c60-c2be81e36a45",
   "metadata": {},
   "source": [
    "## RGB Environment CNN"
   ]
  },
  {
   "cell_type": "code",
   "execution_count": 5,
   "id": "0d855914-58c4-4b52-9374-352e6efbaaa9",
   "metadata": {
    "colab": {
     "base_uri": "https://localhost:8080/"
    },
    "execution": {
     "iopub.execute_input": "2024-01-14T08:27:41.904947Z",
     "iopub.status.busy": "2024-01-14T08:27:41.903912Z",
     "iopub.status.idle": "2024-01-14T08:27:41.914341Z",
     "shell.execute_reply": "2024-01-14T08:27:41.913412Z",
     "shell.execute_reply.started": "2024-01-14T08:27:41.904920Z"
    },
    "id": "0d855914-58c4-4b52-9374-352e6efbaaa9",
    "outputId": "685a3a07-8e12-4045-dde9-8b105f61a461"
   },
   "outputs": [],
   "source": [
    "# Vì ta đang xử ký tín hiệu ảnh (màn hình Arcade) nên ta cần dùng tích chập\n",
    "class DQN(nn.Module):\n",
    "    def __init__(self, n_stack, n_actions):\n",
    "        super(DQN, self).__init__()\n",
    "            \n",
    "        self.conv_layer1= nn.Sequential(\n",
    "            nn.Conv2d(in_channels= n_stack, out_channels= 32, kernel_size= 8, stride= 4),\n",
    "            nn.ReLU(inplace= True)\n",
    "        )\n",
    "\n",
    "        self.conv_layer2= nn.Sequential(\n",
    "            nn.Conv2d(in_channels= 32, out_channels= 64, kernel_size= 4, stride= 2),\n",
    "            nn.ReLU(inplace= True)\n",
    "        )\n",
    "\n",
    "        self.conv_layer3= nn.Sequential(\n",
    "            nn.Conv2d(in_channels= 64, out_channels= 64, kernel_size= 3, stride= 1),\n",
    "            nn.ReLU(inplace= True)\n",
    "        )\n",
    "        \n",
    "        self.relu= nn.ReLU(inplace= True)\n",
    "        \n",
    "        self.flatten= nn.Flatten()\n",
    "        self.layer1= nn.Linear(7*7*64, 512)\n",
    "        self.layer2= nn.Linear(512, n_actions)\n",
    "\n",
    "    def forward(self, x):\n",
    "        x= self.conv_layer1(x)\n",
    "        x= self.conv_layer2(x)\n",
    "        x= self.conv_layer3(x)\n",
    "\n",
    "        x= self.flatten(x)\n",
    "\n",
    "        x= self.relu(self.layer1(x))\n",
    "        x= self.layer2(x)\n",
    "\n",
    "        return x"
   ]
  },
  {
   "cell_type": "markdown",
   "id": "hi-e_F9GI_l7",
   "metadata": {
    "id": "hi-e_F9GI_l7"
   },
   "source": [
    "# Hyperparameters"
   ]
  },
  {
   "cell_type": "code",
   "execution_count": 6,
   "id": "s5OSIvV9I7oI",
   "metadata": {
    "execution": {
     "iopub.execute_input": "2024-01-14T08:27:41.916550Z",
     "iopub.status.busy": "2024-01-14T08:27:41.916171Z",
     "iopub.status.idle": "2024-01-14T08:27:43.655714Z",
     "shell.execute_reply": "2024-01-14T08:27:43.654776Z",
     "shell.execute_reply.started": "2024-01-14T08:27:41.916525Z"
    },
    "id": "s5OSIvV9I7oI"
   },
   "outputs": [],
   "source": [
    "# BATCH_SIZE là số transitions được sample trong replay buffer\n",
    "# GAMMA là discount factor\n",
    "# EPS_START là giá trị ban đầu của epsilon\n",
    "# EPS_END là giá trị sau của epsilon]\n",
    "# EPS_DECAY sẽ điều khiển giá trị giảm lũy thừa (rate of exponetial decay) của epsilon, càng cao nghĩa là giảm càng chậm\n",
    "# TAU là giá trị update của target network\n",
    "# LR là learning rate của AdamW optimizer\n",
    "\n",
    "BATCH_SIZE= 128\n",
    "GAMMA= 0.99\n",
    "EPS_START= 1.0\n",
    "EPS_END= 0.01\n",
    "EPS_DECAY= 100000\n",
    "TAU= 0.005\n",
    "LR= 1e-4\n",
    "TARGET_UPDATE_STEP= 500\n",
    "\n",
    "\n",
    "n_actions= env.action_space.n\n",
    "obs_shape= env.observation_space.shape[0]\n",
    "\n",
    "# RGB Environment\n",
    "policy_net= DQN(n_stack= STACK_NUM, n_actions= n_actions).to(device)\n",
    "target_net= DQN(n_stack= STACK_NUM, n_actions= n_actions).to(device)\n",
    "\n",
    "target_net.load_state_dict(policy_net.state_dict())\n",
    "\n",
    "optimizer= optim.AdamW(policy_net.parameters(), lr= LR, amsgrad= True)\n",
    "memory= ReplayMemory(10000)\n",
    "\n",
    "steps_done= 0\n",
    "\n",
    "def select_action(state):\n",
    "    #print(f'In the select_action, shape is: {state.shape}')\n",
    "    \"\"\"\n",
    "    Hàm select_action sẽ chọn action dựa theo epsilon greedy policy. Một cách đơn giản, ta sẽ đôi khi dùng model để chọn action, nhưng đôi khi ta chỉ lấy mẫu một cách thống nhất (uniformly)\n",
    "    Xác suất chọn random action sẽ start từ EPS_START và decay dần theo hàm mũ theo đến EPS_END. EPS_DECAY sẽ điều khiển độ giảm.\n",
    "    \"\"\"\n",
    "    global steps_done # Set variable trong function này phản ánh đến variable ngoài function\n",
    "    global fire_ball \n",
    "    \n",
    "    sample= random.random() # Random giá trị bất kì từ 0 -> 1\n",
    "    eps_threshold= EPS_END+ (EPS_START - EPS_END)* math.exp(-1.* steps_done/ EPS_DECAY) # Tính giá trị epsilon greedy tại step hiện tại\n",
    "\n",
    "    steps_done+= 1\n",
    "    if fire_ball:\n",
    "        fire_ball= False\n",
    "        action= torch.tensor([[1]], device= device, dtype= torch.long)\n",
    "        #print(f\"Proceed with ramdom action, choose action {action}\")\n",
    "        return action\n",
    "    elif sample> eps_threshold:\n",
    "        \"\"\"\n",
    "        Nếu giá trị random(sample) > giá trị epsilon thì agent sẽ select action từ policy model, không thì random action. Khi về cuối epsilon càng giảm, agent sẽ càng chú trọng việc thực thi\n",
    "        theo policy hơn là random\n",
    "        \"\"\"\n",
    "        with torch.no_grad():\n",
    "            \"\"\"\n",
    "            Example:\n",
    "            1. Output từ policy net: [0.5, 0.8, 0.3, 0.9]\n",
    "            2. Sau max, dimension 1: 0.9\n",
    "            3. Sau indices (lấy index của max): 3\n",
    "            4. Sau view(1,1): [[3]]\n",
    "            \"\"\"\n",
    "            action= policy_net(state).max(dim= 1).indices.view(1,1)\n",
    "            #print(f\"Proceed with Policy, choose action {action}\")\n",
    "            return action\n",
    "    else:\n",
    "        action= torch.tensor([[env.action_space.sample()]], device= device, dtype= torch.long)\n",
    "        #print(f\"Proceed with ramdom action, choose action {action}\")\n",
    "        return action\n",
    "\n",
    "episode_durations= []\n",
    "episode_rewards= []\n",
    "\n",
    "def plot_durations(show_result= False):\n",
    "    \"\"\"\n",
    "    Function giúp plot duration của episodes, cùng với trung bình của 100 episodes gần nhất.\n",
    "    \"\"\"\n",
    "    plt.figure(1)\n",
    "    durations_t= torch.tensor(episode_durations, dtype= torch.float) #Convert list gồm durations của nhiều episode thành tensors.\n",
    "    reward_t= torch.tensor(episode_rewards, dtype= torch.float)\n",
    "    if show_result:\n",
    "        plt.title('Result')\n",
    "    else:\n",
    "        plt.clf() # Clear các figures hiện có\n",
    "        plt.title('Training...')\n",
    "\n",
    "    plt.subplot(211)\n",
    "    plt.ylabel('Reward')\n",
    "    plt.plot(reward_t.numpy())\n",
    "    if len(durations_t)>= 100:\n",
    "        means= reward_t.unfold(0, 100, 1).mean(1).view(-1)\n",
    "        means= torch.cat((torch.zeros(99), means))\n",
    "        plt.plot(means.numpy()) # Plot thêm trung bình của 100 episode gần nhất\n",
    "    \n",
    "    plt.subplot(212)\n",
    "    plt.xlabel('Episode')\n",
    "    plt.ylabel('Duration')\n",
    "    plt.plot(durations_t.numpy()) # Plot duration theo từng episode\n",
    "    # Lấy avg của 100 episode và plot\n",
    "    if len(durations_t)>= 100:\n",
    "        means= durations_t.unfold(0, 100, 1).mean(1).view(-1)\n",
    "        means= torch.cat((torch.zeros(99), means))\n",
    "        plt.plot(means.numpy()) # Plot thêm trung bình của 100 episode gần nhất\n",
    "\n",
    "    plt.pause(0.001) # Delay để update\n",
    "    if is_ipython:\n",
    "        if not show_result:\n",
    "            display.display(plt.gcf()) # plt.gcf: Lấy figure hiện tại\n",
    "            display.clear_output(wait= True)\n",
    "        else:\n",
    "            display.display(plt.gcf())"
   ]
  },
  {
   "cell_type": "markdown",
   "id": "BIPRDYDYgzh7",
   "metadata": {
    "id": "BIPRDYDYgzh7"
   },
   "source": [
    "# Training Loop"
   ]
  },
  {
   "cell_type": "code",
   "execution_count": 7,
   "id": "AwSC7DXFWTY3",
   "metadata": {
    "execution": {
     "iopub.execute_input": "2024-01-14T08:27:43.657206Z",
     "iopub.status.busy": "2024-01-14T08:27:43.656955Z",
     "iopub.status.idle": "2024-01-14T08:27:43.667232Z",
     "shell.execute_reply": "2024-01-14T08:27:43.666375Z",
     "shell.execute_reply.started": "2024-01-14T08:27:43.657182Z"
    },
    "id": "AwSC7DXFWTY3"
   },
   "outputs": [],
   "source": [
    "def optimize_model():\n",
    "    if len(memory)< BATCH_SIZE:\n",
    "        return\n",
    "    #print(\"Gather enough data, start training...\")\n",
    "    transition= memory.sample(BATCH_SIZE) #Dùng method sample trong class ReplayMemory để chọn random BATCH_SIZE trong memory\n",
    "\n",
    "    \"\"\"\n",
    "    Tạo batch để store random BATCH_SIZE transition dưới dạng\n",
    "    Transition('state'= (s1, s2, ..), 'action'= (a1, a2, ..), 'next_state'= (s2, s3, ..), 'reward'= (r1, r2, ..)))\n",
    "    \"\"\"\n",
    "    batch= Transition(*zip(*transition))\n",
    "\n",
    "    \"\"\"\n",
    "    Tạo một tensor tuple True False, nơi state tiếp tồn tại thì True. Ngược lại nếu state tiếp theo là terminate state hay end thì False\n",
    "    \"\"\"\n",
    "    non_final_mask= torch.tensor(\n",
    "        tuple(\n",
    "            map(lambda s: s is not None, batch.next_state)\n",
    "        ), device= device, dtype= torch.bool\n",
    "    )\n",
    "\n",
    "    \"\"\"\n",
    "    Stack các state tiếp theo lại với nhau, chỉ các state không phải terminated state hay end state\n",
    "    \"\"\"\n",
    "    non_final_next_state= torch.cat([s for s in batch.next_state if s is not None]).to(device)\n",
    "\n",
    "    state_batch= torch.cat(batch.state) # Dimension (batch_size, 4, 84, 84)\n",
    "    action_batch= torch.cat(batch.action) # Dimension (batch_size, 1)\n",
    "    reward_batch= torch.cat(batch.reward) # Dimension (batch_size, 1)\n",
    "\n",
    "    \"\"\"\n",
    "    Tìm Q_value (Q(state, action)) cho batch\n",
    "    Ở đây output của model sẽ là Q value của state đó ứng với tất cả các actions có thể có (4):\n",
    "    Lấy ví dụ batch_size= 2\n",
    "    output = [\n",
    "        [Q(state1, action1), Q(state1, action2), Q(state1, action3), Q(state1, action4)],\n",
    "        [Q(state2, action1), Q(state2, action2), Q(state2, action3), Q(state2, action4)]\n",
    "    ]\n",
    "\n",
    "    action_batch = [\n",
    "        [3],  # Action indices for state1: action4\n",
    "        [1]   # Action indices for state2: action2\n",
    "    ]\n",
    "\n",
    "    Q_value= [\n",
    "        Q(state1, action4),  # From output[0](1st instance trong batch) [3] (index số 4)\n",
    "        Q(state2, action2)   # From output[1] (2nd instance tron batch) [1] (index số 2)\n",
    "    ]\n",
    "\n",
    "    \"\"\"\n",
    "    Q_value= policy_net(state_batch).gather(1, action_batch)\n",
    "\n",
    "    \"\"\"\n",
    "    Khởi tạo Q_hat_next_state là tensor list 0\n",
    "    \"\"\"\n",
    "    Q_hat_next_state= torch.zeros(BATCH_SIZE, device= device)\n",
    "    with torch.no_grad():\n",
    "        \"\"\"\n",
    "        Tính Q_hat_next_state chỉ tại nơi True, nghĩa là nơi có state kế tiếp\n",
    "        \"\"\"\n",
    "        Q_hat_next_state[non_final_mask]= target_net(non_final_next_state).max(dim= 1).values\n",
    "\n",
    "    \"\"\"\n",
    "    Tìm Q-target\n",
    "    \"\"\"\n",
    "    Q_target= reward_batch+ GAMMA*Q_hat_next_state\n",
    "\n",
    "    # Tính hàm loss\n",
    "    criterion= nn.SmoothL1Loss()\n",
    "    loss= criterion(Q_value, Q_target.unsqueeze(1))\n",
    "\n",
    "    # Tối ưu model\n",
    "    optimizer.zero_grad()\n",
    "    loss.backward()\n",
    "\n",
    "    \"\"\"\n",
    "    Gradient Clipping, dùng để giảm thiểu exploding gradient. Nhất là trong trường hợp mà gradient trong backpropagation có thể rất lớn.\n",
    "    Điều này có thể xảy ra trong deep neural network, đặc biệt là trong reinforcement learning, nơi mà giá trị estimate có thể bị phân kỳ hay dao động lớn.\n",
    "    \"\"\"\n",
    "    torch.nn.utils.clip_grad_value_(policy_net.parameters(), 1000)\n",
    "    optimizer.step()\n",
    "    #print(\"Optimize model hoàn tất\")"
   ]
  },
  {
   "cell_type": "code",
   "execution_count": null,
   "id": "rhuVhHsGvh1l",
   "metadata": {
    "colab": {
     "base_uri": "https://localhost:8080/",
     "height": 524
    },
    "execution": {
     "iopub.execute_input": "2024-01-14T08:28:15.831277Z",
     "iopub.status.busy": "2024-01-14T08:28:15.830899Z"
    },
    "id": "rhuVhHsGvh1l",
    "outputId": "d6e58a94-b929-4aa5-ff4a-9e2d6223f4d3"
   },
   "outputs": [
    {
     "data": {
      "image/png": "[encoded data removed]",
      "text/plain": [
       "<Figure size 640x480 with 2 Axes>"
      ]
     },
     "metadata": {},
     "output_type": "display_data"
    },
    {
     "data": {
      "text/plain": [
       "<Figure size 640x480 with 0 Axes>"
      ]
     },
     "metadata": {},
     "output_type": "display_data"
    }
   ],
   "source": [
    "if torch.cuda.is_available: \n",
    "    num_episode= 1000000\n",
    "else: \n",
    "    num_episode= 50\n",
    "\n",
    "print(f\"Training on total of {num_episode} episodes\")\n",
    "\n",
    "for espisode in range(num_episode):\n",
    "    fire_ball= True\n",
    "    state, info= env.reset(seed=random.randint(0, 2**24))\n",
    "    state= torch.tensor(state, dtype= torch.float32, device= device).unsqueeze(0)\n",
    "    accumulate_reward= 0\n",
    "    for t in count():\n",
    "        action= select_action(state)\n",
    "        observation, reward, terminated, truncated, info= env.step(action.item())\n",
    "        done= terminated or truncated    \n",
    "        reward= torch.tensor([reward], device= device)     \n",
    "        \n",
    "        if terminated:\n",
    "            next_state= None\n",
    "        else:\n",
    "            next_state= torch.tensor(observation, dtype= torch.float32, device= device).unsqueeze(0)\n",
    "\n",
    "        # Lưu transition vào memory\n",
    "        memory.push(state, action, next_state, reward)\n",
    "\n",
    "        # Đi đến state tiếp theo\n",
    "        state= next_state\n",
    "\n",
    "        # Train model\n",
    "        optimize_model()\n",
    "\n",
    "        # Update the Target net with soft update: θ′ ← τ θ + (1 −τ )θ′\n",
    "        if t%TARGET_UPDATE_STEP== 0:\n",
    "            target_net_state_dict= target_net.state_dict()\n",
    "            policy_net_state_dict= policy_net.state_dict()\n",
    "\n",
    "            for key in policy_net_state_dict:\n",
    "                target_net_state_dict[key]= policy_net_state_dict[key]*TAU+ target_net_state_dict[key]*(1- TAU)\n",
    "            target_net.load_state_dict(target_net_state_dict) # Update target model theo TAU\n",
    "            #target_net.load_state_dict(policy_net_state_dict) # Update target model bằng policy model\n",
    "        \n",
    "        accumulate_reward+= reward\n",
    "        \n",
    "        if terminated:\n",
    "            episode_durations.append(t+1)\n",
    "            episode_rewards.append(accumulate_reward)\n",
    "            plot_durations()\n",
    "        \n",
    "        if done:\n",
    "            break\n",
    "\n",
    "print(\"Complete\")\n",
    "plot_durations(show_result=True)\n",
    "plt.ioff()\n",
    "plt.show()"
   ]
  },
  {
   "cell_type": "code",
   "execution_count": null,
   "id": "qq445tZ44f_L",
   "metadata": {
    "colab": {
     "base_uri": "https://localhost:8080/"
    },
    "id": "qq445tZ44f_L",
    "outputId": "c2c0c611-5610-4856-9256-9a5ed65a34a3"
   },
   "outputs": [],
   "source": [
    "version= 'v1'\n",
    "game= 'BreakOut_v5'\n",
    "\n",
    "torch.save(policy_net.state_dict(), f'save_models/policy_model_state_dict_{game}_{num_episode}episodes_{version}.pt')"
   ]
  },
  {
   "cell_type": "markdown",
   "id": "z1xbSO_Qq5qO",
   "metadata": {
    "id": "z1xbSO_Qq5qO"
   },
   "source": [
    "# Play game based on Trained Policy"
   ]
  },
  {
   "cell_type": "markdown",
   "id": "iqCBptnExXSm",
   "metadata": {
    "id": "iqCBptnExXSm"
   },
   "source": [
    "## Setup environment"
   ]
  },
  {
   "cell_type": "code",
   "execution_count": 3,
   "id": "_A76EPPOxWPs",
   "metadata": {
    "execution": {
     "iopub.execute_input": "2024-01-11T09:29:13.365248Z",
     "iopub.status.busy": "2024-01-11T09:29:13.364908Z",
     "iopub.status.idle": "2024-01-11T09:29:13.670540Z",
     "shell.execute_reply": "2024-01-11T09:29:13.669371Z",
     "shell.execute_reply.started": "2024-01-11T09:29:13.365224Z"
    },
    "id": "_A76EPPOxWPs"
   },
   "outputs": [
    {
     "name": "stderr",
     "output_type": "stream",
     "text": [
      "A.L.E: Arcade Learning Environment (version 0.8.1+53f58b7)\n",
      "[Powered by Stella]\n"
     ]
    }
   ],
   "source": [
    "STACK_NUM= 4\n",
    "RESIZE_HEIGHT= 84\n",
    "RESIZE_WIDTH= 84\n",
    "env= gym.make(\"ALE/Breakout-v5\", render_mode= 'rgb_array')\n",
    "env= gym.wrappers.GrayScaleObservation(env)\n",
    "env= gym.wrappers.ResizeObservation(env, (RESIZE_HEIGHT, RESIZE_WIDTH))\n",
    "env= gym.wrappers.FrameStack(env, STACK_NUM)\n",
    "\n",
    "n_actions= env.action_space.n\n",
    "done, truncated = True, True"
   ]
  },
  {
   "cell_type": "markdown",
   "id": "3Rr6MQDJxIN0",
   "metadata": {
    "id": "3Rr6MQDJxIN0"
   },
   "source": [
    "## Load model"
   ]
  },
  {
   "cell_type": "code",
   "execution_count": 4,
   "id": "dN-8rZNtH6ah",
   "metadata": {
    "colab": {
     "base_uri": "https://localhost:8080/",
     "height": 392
    },
    "execution": {
     "iopub.execute_input": "2024-01-11T09:29:13.673915Z",
     "iopub.status.busy": "2024-01-11T09:29:13.673475Z",
     "iopub.status.idle": "2024-01-11T09:29:15.535375Z",
     "shell.execute_reply": "2024-01-11T09:29:15.534149Z",
     "shell.execute_reply.started": "2024-01-11T09:29:13.673878Z"
    },
    "id": "dN-8rZNtH6ah",
    "outputId": "c3ea2648-237b-4f03-ee1a-10fb0244a22c"
   },
   "outputs": [
    {
     "data": {
      "text/plain": [
       "DQN(\n",
       "  (conv1): Conv2d(4, 16, kernel_size=(8, 8), stride=(4, 4))\n",
       "  (bn1): BatchNorm2d(16, eps=1e-05, momentum=0.1, affine=True, track_running_stats=True)\n",
       "  (conv2): Conv2d(16, 32, kernel_size=(4, 4), stride=(2, 2))\n",
       "  (bn2): BatchNorm2d(32, eps=1e-05, momentum=0.1, affine=True, track_running_stats=True)\n",
       "  (conv3): Conv2d(32, 64, kernel_size=(3, 3), stride=(1, 1))\n",
       "  (bn3): BatchNorm2d(64, eps=1e-05, momentum=0.1, affine=True, track_running_stats=True)\n",
       "  (relu): ReLU(inplace=True)\n",
       "  (flatten): Flatten(start_dim=1, end_dim=-1)\n",
       "  (layer1): Linear(in_features=3136, out_features=512, bias=True)\n",
       "  (layer2): Linear(in_features=512, out_features=4, bias=True)\n",
       ")"
      ]
     },
     "execution_count": 4,
     "metadata": {},
     "output_type": "execute_result"
    }
   ],
   "source": [
    "from save_models import policy_model_BreakOut_v5_v1\n",
    "\n",
    "policy_net= policy_model_BreakOut_v5_v1.load_model(height= RESIZE_HEIGHT, width= RESIZE_WIDTH, n_stack= STACK_NUM, n_actions= n_actions)\n",
    "policy_net.eval()"
   ]
  },
  {
   "cell_type": "markdown",
   "id": "pxIgPT-3xhGJ",
   "metadata": {
    "id": "pxIgPT-3xhGJ"
   },
   "source": [
    "## Play game"
   ]
  },
  {
   "cell_type": "code",
   "execution_count": 5,
   "id": "af1_RxR8ru63",
   "metadata": {
    "execution": {
     "iopub.execute_input": "2024-01-11T09:29:20.017398Z",
     "iopub.status.busy": "2024-01-11T09:29:20.017036Z",
     "iopub.status.idle": "2024-01-11T09:29:29.188425Z",
     "shell.execute_reply": "2024-01-11T09:29:29.187075Z",
     "shell.execute_reply.started": "2024-01-11T09:29:20.017372Z"
    },
    "id": "af1_RxR8ru63"
   },
   "outputs": [
    {
     "name": "stderr",
     "output_type": "stream",
     "text": [
      "/usr/local/lib/python3.9/dist-packages/gymnasium/wrappers/record_video.py:94: UserWarning: \u001b[33mWARN: Overwriting existing videos at /notebooks/DeepRL/BreakOut/video folder (try specifying a different `video_folder` for the `RecordVideo` wrapper if this is not desired)\u001b[0m\n",
      "  logger.warn(\n",
      "/tmp/ipykernel_180/2520329763.py:12: UserWarning: Creating a tensor from a list of numpy.ndarrays is extremely slow. Please consider converting the list to a single numpy.ndarray with numpy.array() before converting to a tensor. (Triggered internally at  ../torch/csrc/utils/tensor_new.cpp:201.)\n",
      "  state_tensor= torch.tensor(state, dtype= torch.float32, device= device).unsqueeze(0)\n"
     ]
    },
    {
     "name": "stdout",
     "output_type": "stream",
     "text": [
      "Moviepy - Building video /notebooks/DeepRL/BreakOut/video/BreakOutv5-episode-0.mp4.\n",
      "Moviepy - Writing video /notebooks/DeepRL/BreakOut/video/BreakOutv5-episode-0.mp4\n",
      "\n"
     ]
    },
    {
     "name": "stderr",
     "output_type": "stream",
     "text": [
      "                                                                \r"
     ]
    },
    {
     "name": "stdout",
     "output_type": "stream",
     "text": [
      "Moviepy - Done !\n",
      "Moviepy - video ready /notebooks/DeepRL/BreakOut/video/BreakOutv5-episode-0.mp4\n",
      "Moviepy - Building video /notebooks/DeepRL/BreakOut/video/BreakOutv5-episode-1.mp4.\n",
      "Moviepy - Writing video /notebooks/DeepRL/BreakOut/video/BreakOutv5-episode-1.mp4\n",
      "\n"
     ]
    },
    {
     "name": "stderr",
     "output_type": "stream",
     "text": [
      "                                                                \r"
     ]
    },
    {
     "name": "stdout",
     "output_type": "stream",
     "text": [
      "Moviepy - Done !\n",
      "Moviepy - video ready /notebooks/DeepRL/BreakOut/video/BreakOutv5-episode-1.mp4\n",
      "Moviepy - Building video /notebooks/DeepRL/BreakOut/video/BreakOutv5-episode-2.mp4.\n",
      "Moviepy - Writing video /notebooks/DeepRL/BreakOut/video/BreakOutv5-episode-2.mp4\n",
      "\n"
     ]
    },
    {
     "name": "stderr",
     "output_type": "stream",
     "text": [
      "                                                  \r"
     ]
    },
    {
     "name": "stdout",
     "output_type": "stream",
     "text": [
      "Moviepy - Done !\n",
      "Moviepy - video ready /notebooks/DeepRL/BreakOut/video/BreakOutv5-episode-2.mp4\n",
      "Moviepy - Building video /notebooks/DeepRL/BreakOut/video/BreakOutv5-episode-2.mp4.\n",
      "Moviepy - Writing video /notebooks/DeepRL/BreakOut/video/BreakOutv5-episode-2.mp4\n",
      "\n"
     ]
    },
    {
     "name": "stderr",
     "output_type": "stream",
     "text": [
      "                                                                \r"
     ]
    },
    {
     "name": "stdout",
     "output_type": "stream",
     "text": [
      "Moviepy - Done !\n",
      "Moviepy - video ready /notebooks/DeepRL/BreakOut/video/BreakOutv5-episode-2.mp4\n",
      "Moviepy - Building video /notebooks/DeepRL/BreakOut/video/BreakOutv5-episode-3.mp4.\n",
      "Moviepy - Writing video /notebooks/DeepRL/BreakOut/video/BreakOutv5-episode-3.mp4\n",
      "\n"
     ]
    },
    {
     "name": "stderr",
     "output_type": "stream",
     "text": [
      "                                                                \r"
     ]
    },
    {
     "name": "stdout",
     "output_type": "stream",
     "text": [
      "Moviepy - Done !\n",
      "Moviepy - video ready /notebooks/DeepRL/BreakOut/video/BreakOutv5-episode-3.mp4\n",
      "Moviepy - Building video /notebooks/DeepRL/BreakOut/video/BreakOutv5-episode-4.mp4.\n",
      "Moviepy - Writing video /notebooks/DeepRL/BreakOut/video/BreakOutv5-episode-4.mp4\n",
      "\n"
     ]
    },
    {
     "name": "stderr",
     "output_type": "stream",
     "text": [
      "                                                                "
     ]
    },
    {
     "name": "stdout",
     "output_type": "stream",
     "text": [
      "Moviepy - Done !\n",
      "Moviepy - video ready /notebooks/DeepRL/BreakOut/video/BreakOutv5-episode-4.mp4\n"
     ]
    },
    {
     "name": "stderr",
     "output_type": "stream",
     "text": [
      "\r"
     ]
    }
   ],
   "source": [
    "env= gym.wrappers.RecordVideo(env= env, video_folder= \"./video/\", name_prefix= \"BreakOutv5\", episode_trigger= lambda x:x== 2)\n",
    "env.metadata['render_fps']= 30\n",
    "for episode in range(5):\n",
    "    state, info= env.reset()\n",
    "    env.start_video_recorder()\n",
    "    done= False\n",
    "    while not done:\n",
    "        #plt.imshow(env.render())\n",
    "        #display(plt.gcf())    \n",
    "        #clear_output(wait=True)\n",
    "\n",
    "        state_tensor= torch.tensor(state, dtype= torch.float32, device= device).unsqueeze(0)\n",
    "\n",
    "        with torch.no_grad():\n",
    "            action= policy_net(state_tensor).max(dim= 1).indices.view(1,1)\n",
    "        \n",
    "        #next_state, _, terminated, truncated, _ = env.step(env.action_space.sample())\n",
    "        #print(action.item())\n",
    "        next_state, _, terminated, truncated, _ = env.step(action.item())\n",
    "        done= terminated or truncated\n",
    "        #print(f\"Done: {done}\")\n",
    "        state= next_state\n",
    "        env.render()\n",
    "    \n",
    "    env.close()"
   ]
  },
  {
   "cell_type": "code",
   "execution_count": 8,
   "id": "07106d35-da4a-4d58-b42d-7b3fffecb334",
   "metadata": {
    "execution": {
     "iopub.execute_input": "2023-12-30T03:11:58.489207Z",
     "iopub.status.busy": "2023-12-30T03:11:58.488929Z",
     "iopub.status.idle": "2023-12-30T03:11:58.495377Z",
     "shell.execute_reply": "2023-12-30T03:11:58.494025Z",
     "shell.execute_reply.started": "2023-12-30T03:11:58.489175Z"
    }
   },
   "outputs": [
    {
     "name": "stdout",
     "output_type": "stream",
     "text": [
      "Done\n"
     ]
    }
   ],
   "source": [
    "print(\"Done\")"
   ]
  },
  {
   "cell_type": "code",
   "execution_count": null,
   "id": "2fac546b-7bf0-4bb5-b13e-bf5c50a8c2b9",
   "metadata": {},
   "outputs": [],
   "source": []
  }
 ],
 "metadata": {
  "accelerator": "GPU",
  "colab": {
   "gpuType": "T4",
   "provenance": []
  },
  "kernelspec": {
   "display_name": "Python 3 (ipykernel)",
   "language": "python",
   "name": "python3"
  },
  "language_info": {
   "codemirror_mode": {
    "name": "ipython",
    "version": 3
   },
   "file_extension": ".py",
   "mimetype": "text/x-python",
   "name": "python",
   "nbconvert_exporter": "python",
   "pygments_lexer": "ipython3",
   "version": "3.9.16"
  }
 },
 "nbformat": 4,
 "nbformat_minor": 5
}
